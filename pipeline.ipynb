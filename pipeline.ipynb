{
 "cells": [
  {
   "cell_type": "markdown",
   "metadata": {},
   "source": [
    "# [IAPR][iapr]: Project\n",
    "\n",
    "\n",
    "**Group ID:** 49\n",
    "\n",
    "**Author 1 (sciper):** Mariane Brodier (250488)  \n",
    "**Author 2 (sciper):** Lucas Bost (270139)   \n",
    "**Author 3 (sciper):** Nicolas Delamaide (271789)   \n",
    "\n",
    "**Release date:** 07.05.2021  \n",
    "**Due date:** 03.06.2021 (23h59)\n",
    "\n",
    "\n",
    "## Important notes\n",
    "\n",
    "The lab assignments are designed to teach practical implementation of the topics presented during class as well as preparation for the final project, which is a practical project which ties together the topics of the course. \n",
    "\n",
    "As such, in the lab assignments/final project, unless otherwise specified, you may, if you choose, use external functions from image processing/ML libraries like opencv and sklearn as long as there is sufficient explanation in the lab report. For example, you do not need to implement your own edge detector, etc.\n",
    "\n",
    "**! Before handling back the notebook !** rerun the notebook from scratch `Kernel` > `Restart & Run All`\n",
    "\n",
    "\n",
    "[iapr]: https://github.com/LTS5/iapr"
   ]
  },
  {
   "cell_type": "markdown",
   "metadata": {},
   "source": [
    "----\n",
    "## Train our model\n",
    "#### Import training set"
   ]
  },
  {
   "cell_type": "code",
   "execution_count": 1,
   "metadata": {},
   "outputs": [],
   "source": [
    "import numpy as np\n",
    "import os\n",
    "\n",
    "save_folder = \"train_set/\"\n",
    "\n",
    "train_ranks = np.load(save_folder+'train_ranks.npy')\n",
    "train_suites = np.load(save_folder+'train_suites.npy')"
   ]
  },
  {
   "cell_type": "code",
   "execution_count": 2,
   "metadata": {},
   "outputs": [],
   "source": [
    "train_im_ranks = train_ranks[:,:-1]\n",
    "labels_ranks = train_ranks[:,-1].astype(np.int64)\n",
    "\n",
    "train_im_suites = train_suites[:,:-1]\n",
    "labels_suites = train_suites[:,-1].astype(np.int64)"
   ]
  },
  {
   "cell_type": "markdown",
   "metadata": {},
   "source": [
    "#### Train ranks + suites classifiers"
   ]
  },
  {
   "cell_type": "code",
   "execution_count": 3,
   "metadata": {},
   "outputs": [],
   "source": [
    "from sklearn.neural_network import MLPClassifier\n",
    "from sklearn.preprocessing import StandardScaler\n",
    "\n",
    "def train_MLP(train_images, train_labels):\n",
    "    \n",
    "    scaler = StandardScaler() # to scale the values of the pixels\n",
    "    scaler.fit(train_images)  \n",
    "\n",
    "    train_images_scaled = scaler.transform(train_images)  # Scale train_images\n",
    "\n",
    "    hidden_units = 100\n",
    "\n",
    "    clf = MLPClassifier(hidden_layer_sizes = (hidden_units,), random_state=42, max_iter=150).fit(train_images_scaled, train_labels)\n",
    "    \n",
    "    return clf, scaler"
   ]
  },
  {
   "cell_type": "code",
   "execution_count": 4,
   "metadata": {},
   "outputs": [
    {
     "name": "stderr",
     "output_type": "stream",
     "text": [
      "/Users/Nicolas/anaconda3/envs/iapr/lib/python3.6/site-packages/sklearn/neural_network/_multilayer_perceptron.py:617: ConvergenceWarning: Stochastic Optimizer: Maximum iterations (150) reached and the optimization hasn't converged yet.\n",
      "  % self.max_iter, ConvergenceWarning)\n"
     ]
    }
   ],
   "source": [
    "ranks_clf, ranks_scaler = train_MLP(train_im_ranks, labels_ranks)\n",
    "suites_clf, suites_scaler = train_MLP(train_im_suites, labels_suites)"
   ]
  },
  {
   "cell_type": "markdown",
   "metadata": {},
   "source": [
    "---\n",
    "## Import game data\n"
   ]
  },
  {
   "cell_type": "code",
   "execution_count": 7,
   "metadata": {},
   "outputs": [],
   "source": [
    "from random import uniform\n",
    "from skimage import transform as tf\n",
    "\n",
    "def MNIST_like(im, im_shape, scale_low=1.15, scale_high=1.25, trans_=(-2.2,-3),\n",
    "                rot=np.deg2rad(2)):\n",
    "    \n",
    "    tform = tf.SimilarityTransform(scale=uniform(scale_low, scale_high), translation=trans_,\n",
    "                                           rotation=uniform(-rot, rot))\n",
    "    \n",
    "    return tf.warp(im.reshape(im_shape), tform).flatten()"
   ]
  },
  {
   "cell_type": "code",
   "execution_count": 8,
   "metadata": {},
   "outputs": [
    {
     "name": "stdout",
     "output_type": "stream",
     "text": [
      "../project/train_games\n",
      "../project/train_games/game1\n",
      "8.jpg\n",
      "9.jpg\n",
      "12.jpg\n",
      "13.jpg\n",
      "11.jpg\n",
      "10.jpg\n",
      "4.jpg\n",
      "5.jpg\n",
      "7.jpg\n",
      "6.jpg\n",
      "2.jpg\n",
      "3.jpg\n",
      "1.jpg\n"
     ]
    }
   ],
   "source": [
    "import re\n",
    "import pickle\n",
    "import pandas as pd\n",
    "from extraction import round_to_elems\n",
    "from points import assign_cards, assign_points_std, assign_points_adv\n",
    "import skimage.io\n",
    "\n",
    "# Change train_games for folder where you put gameX the day of exam\n",
    "data_base_path = os.path.join(os.pardir, 'project/train_games')\n",
    "\n",
    "# Predictions for all games and rounds\n",
    "predictions = []\n",
    "dealers = []\n",
    "game_points_std = np.array([0, 0, 0, 0])\n",
    "game_points_adv = np.array([0, 0, 0, 0])\n",
    "images = []\n",
    "\n",
    "# To reorder rounds in predictions\n",
    "dic_order = {}\n",
    "\n",
    "for root, dirs, files in os.walk(data_base_path):\n",
    "    print(root)\n",
    "    \n",
    "    loop = 0\n",
    "    for i in range(len(files)):\n",
    "        if files[i].endswith(\".jpg\"):\n",
    "\n",
    "            # Find the number\n",
    "            m2 = re.search(r'(\\d+)', files[i])\n",
    "            num_round = None\n",
    "            if m2:\n",
    "                num_round = m2.group(0)\n",
    "\n",
    "            file_im = num_round+\".jpg\"\n",
    "            num_round = int(num_round)\n",
    "\n",
    "            dic_order[num_round-1] = loop\n",
    "            print(file_im)\n",
    "\n",
    "            # Current round predictions\n",
    "            pred_ranks = []\n",
    "            pred_suites = []\n",
    "\n",
    "            img = skimage.io.imread(os.path.join(root, file_im))\n",
    "\n",
    "            ranks, suites, dealer = round_to_elems(img)\n",
    "\n",
    "            dealers.append(dealer)\n",
    "\n",
    "            labels_round = []\n",
    "\n",
    "            # Predict rank + labels\n",
    "            for idx_player in range(4):\n",
    "\n",
    "                if (ranks[idx_player].size!=0):\n",
    "\n",
    "                    # Make rank look like mnist data\n",
    "                    rank_im = MNIST_like(ranks[idx_player], (28,28))\n",
    "\n",
    "                    images.append(rank_im)\n",
    "                    \n",
    "                    # Scale image\n",
    "                    rank_scaled = ranks_scaler.transform(rank_im.reshape(1,-1))\n",
    "                    pred_rank = ranks_clf.predict(rank_scaled)[0]\n",
    "\n",
    "                else:\n",
    "                    pred_rank = (-np.float('inf')) # -infinity if no rank found\n",
    "\n",
    "                pred_ranks.append(pred_rank)\n",
    "\n",
    "                if (suites[idx_player].size!=0):\n",
    "\n",
    "                    images.append(suites[idx_player].flatten())\n",
    "                    \n",
    "                    # Scale image\n",
    "                    suite_scaled = suites_scaler.transform(suites[idx_player].flatten().reshape(1,-1))\n",
    "                    pred_suite = suites_clf.predict(suite_scaled)[0]\n",
    "                    \n",
    "                else:\n",
    "                    pred_suite = None\n",
    "\n",
    "                pred_suites.append(pred_suite)\n",
    "\n",
    "            loop += 1\n",
    "\n",
    "            predictions.append(assign_cards(pred_ranks, pred_suites))\n",
    "            game_points_std += assign_points_std(pred_ranks)\n",
    "            game_points_adv += assign_points_adv(pred_ranks, pred_suites, dealer)\n",
    "\n",
    "predictions = [predictions[dic_order[i]] for i in range(len(predictions))]"
   ]
  },
  {
   "cell_type": "code",
   "execution_count": 9,
   "metadata": {},
   "outputs": [
    {
     "name": "stdout",
     "output_type": "stream",
     "text": [
      "The cards played were:\n",
      "[\n",
      "['4C', 'JC', 'JD', 'KC'], \n",
      "['QD', 'KH', '4C', 'KD'], \n",
      "['2S', '7S', '2S', '1D'], \n",
      "['JS', '7S', 'KS', 'QS'], \n",
      "['0H', '6H', '3H', '2H'], \n",
      "['QC', '8C', '2C', '7H'], \n",
      "['6H', '2H', '2H', '1H'], \n",
      "['Null Null', '8C', '0D', '2C'], \n",
      "['4D', '7D', 'QH', '4D'], \n",
      "['2C', '4S', '8S', '6S'], \n",
      "['2H', 'JH', '6D', '4H'], \n",
      "['0C', '7D', '4S', '8S'], \n",
      "['2D', '3D', '3D', 'QC'], \n",
      "]\n",
      "Players designated as dealer: [4, 1, 2, 2, 2, 1, 4, 1, 1, 4, 3, 3, 3]\n",
      "Players points (standard): [2, 5, 3, 4]\n",
      "Players points (advanced): [2, 7, 4, 1]\n"
     ]
    }
   ],
   "source": [
    "from utils import print_results\n",
    "\n",
    "print_results(\n",
    "    rank_colour=np.asarray(predictions), \n",
    "    dealer=dealers, \n",
    "    pts_standard=game_points_std.tolist(),\n",
    "    pts_advanced=game_points_adv.tolist(),\n",
    ")"
   ]
  },
  {
   "cell_type": "markdown",
   "metadata": {},
   "source": [
    "The cards played were:\n",
    "[\n",
    "['4C', 'JC', 'JD', 'KC'], \n",
    "['QD', 'KH', '4C', 'KD'], \n",
    "['2S', '7S', '2S', '1D'], \n",
    "['JS', '7S', 'KS', 'QS'], \n",
    "['0H', '6H', '3H', '2H'], \n",
    "['QC', '8C', '2C', '7H'], \n",
    "['6H', '2H', '2H', '1H'], \n",
    "['7D', '8C', '0D', '2C'], \n",
    "['4D', '7D', 'QH', '4D'], \n",
    "['2C', '4S', '8S', '6S'], \n",
    "['2H', 'JH', '6D', '4H'], \n",
    "['0C', '7D', '4S', '8S'], \n",
    "['2D', '3D', '3D', 'QC'], \n",
    "]\n",
    "Players designated as dealer: [4, 1, 2, 2, 2, 1, 4, 1, 1, 4, 3, 3, 3]\n",
    "Players points (standard): [2, 5, 3, 4]\n",
    "Players points (advanced): [2, 7, 4, 1]"
   ]
  }
 ],
 "metadata": {
  "kernelspec": {
   "display_name": "Python 3",
   "language": "python",
   "name": "python3"
  },
  "language_info": {
   "codemirror_mode": {
    "name": "ipython",
    "version": 3
   },
   "file_extension": ".py",
   "mimetype": "text/x-python",
   "name": "python",
   "nbconvert_exporter": "python",
   "pygments_lexer": "ipython3",
   "version": "3.6.13"
  }
 },
 "nbformat": 4,
 "nbformat_minor": 4
}

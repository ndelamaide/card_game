{
 "cells": [
  {
   "cell_type": "markdown",
   "metadata": {},
   "source": [
    "# [IAPR][iapr]: Project\n",
    "\n",
    "\n",
    "**Group ID:** 49\n",
    "\n",
    "**Author 1 (sciper):** Mariane Brodier (250488)  \n",
    "**Author 2 (sciper):** Lucas Bost (270139)   \n",
    "**Author 3 (sciper):** Nicolas Delamaide (271789)     \n",
    "\n",
    "**Release date:** 07.05.2021  \n",
    "**Due date:** 03.06.2021 (23h59)\n",
    "\n",
    "\n",
    "## Important notes\n",
    "\n",
    "The lab assignments are designed to teach practical implementation of the topics presented during class as well as preparation for the final project, which is a practical project which ties together the topics of the course. \n",
    "\n",
    "As such, in the lab assignments/final project, unless otherwise specified, you may, if you choose, use external functions from image processing/ML libraries like opencv and sklearn as long as there is sufficient explanation in the lab report. For example, you do not need to implement your own edge detector, etc.\n",
    "\n",
    "**! Before handling back the notebook !** rerun the notebook from scratch `Kernel` > `Restart & Run All`\n",
    "\n",
    "\n",
    "[iapr]: https://github.com/LTS5/iapr"
   ]
  },
  {
   "cell_type": "code",
   "execution_count": 1,
   "metadata": {},
   "outputs": [],
   "source": [
    "game_ranks = [[11, 8, 10, 0], [5, 10, 9, 12], [1, 3, 7, 3], [1, 10, 4, 4], [0, 6, 3, 2], [8, 9, 3, 12], [4, 7, 7, 6], [0, 12, 9, 8], [5, 5, 1, 7], [11, 11, 6, 9], [4, 2, 10, 11], [6, 8, 2, 12], [1, 5, 0, 2]]\n",
    "game_suits = [[2, 0, 0, 2], [2, 2, 3, 1], [1, 0, 3, 1], [2, 1, 2, 3], [1, 2, 3, 3], [2, 1, 2, 2], [1, 0, 1, 0], [3, 3, 2, 3], [1, 0, 0, 2], [0, 3, 1, 0], [0, 1, 3, 1], [3, 1, 0, 0], [3, 3, 0, 2]]\n",
    "game_dealers = [1, 1, 1, 1, 1, 1, 1, 1, 1, 1, 1, 1, 1]"
   ]
  },
  {
   "cell_type": "code",
   "execution_count": 2,
   "metadata": {},
   "outputs": [],
   "source": [
    "def assign_card(rank, suit):\n",
    "    \n",
    "    card = None\n",
    "    \n",
    "    rank_to_string = {0: '0', 1: '1', 2: '2', 3: '3', 4: '4', 5: '5', 6: '6', 7: '7', 8: '8',\n",
    "                     9: '9', 10: 'J', 11: 'Q', 12: 'K', (-np.float('inf')): 'Null '}\n",
    "    suite_to_string = {0: 'H', 1: 'D', 2: 'C', 3: 'S', None: 'Null'}\n",
    "    \n",
    "    if (suit in suite_to_string.keys()) & (rank in rank_to_string.keys()):\n",
    "        \n",
    "        card = rank_to_string[rank] + suite_to_string[suit]\n",
    "\n",
    "    return card\n",
    "\n",
    "def assign_cards(ranks, suits):\n",
    "    \n",
    "    cards = []\n",
    "    \n",
    "    for i in range(len(ranks)):\n",
    "        cards.append(assign_card(ranks[i], suits[i]))\n",
    "    \n",
    "    return cards"
   ]
  },
  {
   "cell_type": "code",
   "execution_count": 3,
   "metadata": {
    "tags": []
   },
   "outputs": [],
   "source": [
    "import numpy as np\n",
    "def assign_points_std(ranks):\n",
    "    \n",
    "    points = []\n",
    "    \n",
    "    max_ = np.max(np.asarray(ranks))\n",
    "    \n",
    "    for i in range(len(ranks)):\n",
    "        if ranks[i] == max_:\n",
    "            points.append(1)\n",
    "        else:\n",
    "            points.append(0)\n",
    "    \n",
    "    return np.asarray(points)\n",
    "\n",
    "def assign_points_adv(ranks, suits, dealer):\n",
    "    \n",
    "    points = []\n",
    "    \n",
    "    ranks_g = []\n",
    "\n",
    "    # If we don't have suite of dealer, default to standard rules\n",
    "    if suits[dealer-1] == None:\n",
    "        return assign_points_std(ranks)\n",
    "    \n",
    "    else:\n",
    "        for j in range(len(ranks)):\n",
    "            if suits[j] == suits[dealer-1]:\n",
    "                ranks_g.append(ranks[j])\n",
    "        \n",
    "        max_ = np.max(np.asarray(ranks_g))\n",
    "        \n",
    "        for i in range(len(ranks)):\n",
    "            if suits[i] == suits[dealer-1]:\n",
    "                if ranks[i] == max_:\n",
    "                    points.append(1)\n",
    "                else:\n",
    "                    points.append(0)\n",
    "            else:\n",
    "                points.append(0)\n",
    "                \n",
    "        return np.asarray(points)"
   ]
  },
  {
   "cell_type": "code",
   "execution_count": 4,
   "metadata": {},
   "outputs": [
    {
     "name": "stdout",
     "output_type": "stream",
     "text": [
      "['1S', '5S', '0H', '2C']\n"
     ]
    }
   ],
   "source": [
    "game_cards = []\n",
    "game_points_std = np.array([0, 0, 0, 0])\n",
    "game_points_adv = np.array([0, 0, 0, 0])\n",
    "\n",
    "for i in range(len(game_ranks)):\n",
    "    round_ranks = game_ranks[i]\n",
    "    round_suits = game_suits[i]\n",
    "    round_dealer = game_dealers[i]\n",
    "    round_cards = assign_cards(round_ranks, round_suits)\n",
    "    game_cards.append(round_cards)\n",
    "    round_points_std = assign_points_std(round_ranks)\n",
    "    game_points_std += round_points_std\n",
    "    round_points_adv = assign_points_adv(round_ranks, round_suits,\n",
    "                                         round_dealer)\n",
    "    game_points_adv += round_points_adv\n",
    "\n",
    "print(round_cards)"
   ]
  }
 ],
 "metadata": {
  "kernelspec": {
   "display_name": "Python 3",
   "language": "python",
   "name": "python3"
  },
  "language_info": {
   "codemirror_mode": {
    "name": "ipython",
    "version": 3
   },
   "file_extension": ".py",
   "mimetype": "text/x-python",
   "name": "python",
   "nbconvert_exporter": "python",
   "pygments_lexer": "ipython3",
   "version": "3.6.13"
  }
 },
 "nbformat": 4,
 "nbformat_minor": 4
}
